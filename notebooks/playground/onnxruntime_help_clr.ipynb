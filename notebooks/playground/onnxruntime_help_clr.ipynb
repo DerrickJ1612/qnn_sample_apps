{
 "cells": [
  {
   "cell_type": "code",
   "execution_count": 1,
   "id": "3d0a647c-2aa0-4563-adbc-05c9c2b1fbeb",
   "metadata": {},
   "outputs": [
    {
     "name": "stdout",
     "output_type": "stream",
     "text": [
      "Requirement already satisfied: pythonnet in c:\\users\\dfs\\desktop\\gitrepo\\env_arm64\\lib\\site-packages (3.0.5)\n",
      "Requirement already satisfied: clr_loader<0.3.0,>=0.2.7 in c:\\users\\dfs\\desktop\\gitrepo\\env_arm64\\lib\\site-packages (from pythonnet) (0.2.7.post0)\n",
      "Requirement already satisfied: cffi>=1.17 in c:\\users\\dfs\\desktop\\gitrepo\\env_arm64\\lib\\site-packages (from clr_loader<0.3.0,>=0.2.7->pythonnet) (1.17.1)\n",
      "Requirement already satisfied: pycparser in c:\\users\\dfs\\desktop\\gitrepo\\env_arm64\\lib\\site-packages (from cffi>=1.17->clr_loader<0.3.0,>=0.2.7->pythonnet) (2.22)\n"
     ]
    }
   ],
   "source": [
    "!powershell pip install pythonnet"
   ]
  },
  {
   "cell_type": "code",
   "execution_count": 1,
   "id": "c14fa0a4-32c8-4368-952e-edd36385143c",
   "metadata": {},
   "outputs": [
    {
     "ename": "ModuleNotFoundError",
     "evalue": "No module named 'clr'",
     "output_type": "error",
     "traceback": [
      "\u001b[1;31m---------------------------------------------------------------------------\u001b[0m",
      "\u001b[1;31mModuleNotFoundError\u001b[0m                       Traceback (most recent call last)",
      "Cell \u001b[1;32mIn[1], line 1\u001b[0m\n\u001b[1;32m----> 1\u001b[0m \u001b[38;5;28;01mimport\u001b[39;00m \u001b[38;5;21;01mclr\u001b[39;00m\n",
      "\u001b[1;31mModuleNotFoundError\u001b[0m: No module named 'clr'"
     ]
    }
   ],
   "source": [
    "import clr\n"
   ]
  },
  {
   "cell_type": "code",
   "execution_count": null,
   "id": "372b7f99-d423-43f8-ae7d-39ea1689f8a2",
   "metadata": {},
   "outputs": [],
   "source": []
  }
 ],
 "metadata": {
  "kernelspec": {
   "display_name": "Python 3 (ipykernel)",
   "language": "python",
   "name": "python3"
  },
  "language_info": {
   "codemirror_mode": {
    "name": "ipython",
    "version": 3
   },
   "file_extension": ".py",
   "mimetype": "text/x-python",
   "name": "python",
   "nbconvert_exporter": "python",
   "pygments_lexer": "ipython3",
   "version": "3.13.0"
  }
 },
 "nbformat": 4,
 "nbformat_minor": 5
}
