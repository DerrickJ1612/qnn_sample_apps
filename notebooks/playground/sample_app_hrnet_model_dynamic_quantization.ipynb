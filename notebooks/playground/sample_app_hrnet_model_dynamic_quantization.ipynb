{
 "cells": [
  {
   "cell_type": "markdown",
   "id": "1eb99ee9-dc7f-4476-af74-9d2015ffa5a0",
   "metadata": {},
   "source": [
    "<br>**Dynamic Quantization**</br>\n",
    "There are two ways of quantizing a model: dynamic and static. Dynamic quantization calculates the quantization parameters (scale and zero point) for activations dynamically. These calculations increase the cost of inference, while usually achieve higher accuracy comparing to static ones.\n",
    "\n",
    "Python API for dynamic quantization is in module *onnxruntime.quantization.quantize*, function *quantize_dynamic()*\n",
    "\n",
    "In general, it is recommended to use dynamic quantization for RNNs and transformer-based models, and static quantization for CNN models."
   ]
  },
  {
   "cell_type": "code",
   "execution_count": 1,
   "id": "abc90d4b-438c-4c57-b9d6-75c6dff2ddb4",
   "metadata": {},
   "outputs": [],
   "source": [
    "import os\n",
    "import onnxruntime\n",
    "\n",
    "from onnxruntime.quantization.preprocess import quant_pre_process as preprocess\n"
   ]
  },
  {
   "cell_type": "code",
   "execution_count": 10,
   "id": "ad7829cd-3a5f-484b-9aec-052494d7e982",
   "metadata": {},
   "outputs": [
    {
     "data": {
      "text/plain": [
       "'..\\\\models\\\\hrnet_pose.onnx'"
      ]
     },
     "execution_count": 10,
     "metadata": {},
     "output_type": "execute_result"
    }
   ],
   "source": [
    "#Path to hrnet model\n",
    "model_path = os.path.join(\"..\",\"models\",\"hrnet_pose.onnx\")\n",
    "output_model = os.path.join(\"..\",\"models\",\"hrnet_pose_preprocessed.onnx\")\n",
    "model_path"
   ]
  },
  {
   "cell_type": "code",
   "execution_count": 11,
   "id": "7a166441-65e5-4065-9c63-e73f56d583c8",
   "metadata": {},
   "outputs": [
    {
     "data": {
      "text/plain": [
       "'C:\\\\Users\\\\DFS\\\\Desktop\\\\gitrepo\\\\qnn_sample_apps\\\\notebooks'"
      ]
     },
     "execution_count": 11,
     "metadata": {},
     "output_type": "execute_result"
    }
   ],
   "source": [
    "os.getcwd()"
   ]
  },
  {
   "cell_type": "code",
   "execution_count": 12,
   "id": "ea55be30-4376-4ab1-9158-e44c6a6dd58a",
   "metadata": {},
   "outputs": [
    {
     "name": "stdout",
     "output_type": "stream",
     "text": [
      "Help on module onnxruntime.quantization.preprocess in onnxruntime.quantization:\n",
      "\n",
      "NAME\n",
      "    onnxruntime.quantization.preprocess\n",
      "\n",
      "DESCRIPTION\n",
      "    # --------------------------------------------------------------------------\n",
      "    # Copyright (c) Microsoft, Intel Corporation. All rights reserved.\n",
      "    # Licensed under the MIT License. See License.txt in the project root for\n",
      "    # license information.\n",
      "    # --------------------------------------------------------------------------\n",
      "\n",
      "FUNCTIONS\n",
      "    parse_arguments()\n",
      "\n",
      "DATA\n",
      "    logger = <Logger onnxruntime.quantization.preprocess (WARNING)>\n",
      "\n",
      "FILE\n",
      "    c:\\users\\dfs\\desktop\\projects\\env_onnx\\lib\\site-packages\\onnxruntime\\quantization\\preprocess.py\n",
      "\n",
      "\n"
     ]
    }
   ],
   "source": [
    "help(onnxruntime.quantization.preprocess)"
   ]
  },
  {
   "cell_type": "code",
   "execution_count": 13,
   "id": "f5a71e65-1afb-4131-b5f2-302e20b0a322",
   "metadata": {},
   "outputs": [
    {
     "name": "stdout",
     "output_type": "stream",
     "text": [
      "Help on function quant_pre_process in module onnxruntime.quantization.shape_inference:\n",
      "\n",
      "quant_pre_process(input_model: Union[str, pathlib.Path, onnx.onnx_ml_pb2.ModelProto, NoneType] = None, output_model_path: Union[str, pathlib.Path, NoneType] = None, skip_optimization: bool = False, skip_onnx_shape: bool = False, skip_symbolic_shape: bool = False, auto_merge: bool = False, int_max: int = 2147483647, guess_output_rank: bool = False, verbose: int = 0, save_as_external_data: bool = False, all_tensors_to_one_file: bool = False, external_data_location: Optional[str] = None, external_data_size_threshold: int = 1024, **deprecated_kwargs) -> None\n",
      "    Shape inference and model optimization, in preparation for quantization.\n",
      "    \n",
      "    Args:\n",
      "        input_model: Path to the input model file or ModelProto\n",
      "        output_model_path: Path to the output model file\n",
      "        skip_optimization: Skip model optimization step if true. This may result in ONNX shape\n",
      "            inference failure for some models.\n",
      "        skip_onnx_shape: Skip ONNX shape inference. Symbolic shape inference is most effective\n",
      "            with transformer based models. Skipping all shape inferences may\n",
      "            reduce the effectiveness of quantization, as a tensor with unknown\n",
      "            shape can not be quantized.\n",
      "        skip_symbolic_shape: Skip symbolic shape inference. Symbolic shape inference is most\n",
      "            effective with transformer based models. Skipping all shape\n",
      "            inferences may reduce the effectiveness of quantization, as a tensor\n",
      "            with unknown shape can not be quantized.\n",
      "        auto_merge: For symbolic shape inference, automatically merge symbolic dims when\n",
      "            conflict happens.\n",
      "        int_max: For symbolic shape inference, specify the maximum value for integer to be\n",
      "            treated as boundless for ops like slice\n",
      "        guess_output_rank: Guess output rank to be the same as input 0 for unknown ops\n",
      "        verbose: Logs detailed info of inference, 0: turn off, 1: warnings, 3: detailed\n",
      "        save_as_external_data: Saving an ONNX model to external data\n",
      "        all_tensors_to_one_file: Saving all the external data to one file\n",
      "        external_data_location: The file location to save the external file\n",
      "        external_data_size_threshold: The size threshold for external data\n",
      "\n"
     ]
    }
   ],
   "source": [
    "help(preprocess)"
   ]
  },
  {
   "cell_type": "markdown",
   "id": "e3042263-dff1-4460-9e1d-5f5f4aa5a89a",
   "metadata": {},
   "source": [
    "# What does preprocessing model do?!?!\n",
    "## https://onnxruntime.ai/docs/performance/model-optimizations/quantization.html\n",
    "### TLDR: Prepares the model for quantization by rewriting computation graph, eliminating redundancies, etc as well as performing shape inferencing"
   ]
  },
  {
   "cell_type": "code",
   "execution_count": 14,
   "id": "226a224b-d570-4198-8bd4-c6f6a6618d78",
   "metadata": {},
   "outputs": [],
   "source": [
    "preprocessed_model = preprocess(input_model=model_path, output_model_path=output_model, verbose=3)\n",
    "preprocessed_model"
   ]
  },
  {
   "attachments": {
    "0eb175e3-fc70-4e96-bc35-671605ad8458.png": {
     "image/png": "[encoded data removed]"
    }
   },
   "cell_type": "markdown",
   "id": "0b906164-c64c-4fd1-ae31-58af882eccb3",
   "metadata": {},
   "source": [
    "![image.png](attachment:0eb175e3-fc70-4e96-bc35-671605ad8458.png)"
   ]
  },
  {
   "cell_type": "code",
   "execution_count": 15,
   "id": "2aa17ea7-3d66-4b78-915f-e83df0a746ae",
   "metadata": {},
   "outputs": [],
   "source": [
    "# Explore model differences after preprocessing\n",
    "from onnxruntime.quantization import quantize_dynamic, QuantType\n",
    "\n",
    "quantized_model_path = os.path.join(\"..\",\"models\",\"hrnet_pose.quant.onnx\")\n",
    "\n",
    "# Use preprocessed model\n",
    "# Calibration data set not needed with dynamic quantization\n",
    "# Recommended to use static computation for CNN models and dynamic for RNN and transformer based models\n",
    "quantized_model = quantize_dynamic(output_model, quantized_model_path)\n",
    "quantized_model"
   ]
  },
  {
   "cell_type": "code",
   "execution_count": null,
   "id": "fe08523c-16e2-455d-9445-e49ce60b8971",
   "metadata": {},
   "outputs": [],
   "source": []
  }
 ],
 "metadata": {
  "kernelspec": {
   "display_name": "Python 3 (ipykernel)",
   "language": "python",
   "name": "python3"
  },
  "language_info": {
   "codemirror_mode": {
    "name": "ipython",
    "version": 3
   },
   "file_extension": ".py",
   "mimetype": "text/x-python",
   "name": "python",
   "nbconvert_exporter": "python",
   "pygments_lexer": "ipython3",
   "version": "3.11.8"
  }
 },
 "nbformat": 4,
 "nbformat_minor": 5
}
